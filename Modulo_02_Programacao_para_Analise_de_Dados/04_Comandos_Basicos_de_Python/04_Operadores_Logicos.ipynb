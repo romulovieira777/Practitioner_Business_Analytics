{
 "cells": [
  {
   "cell_type": "markdown",
   "id": "a1219574",
   "metadata": {},
   "source": [
    "## Operadores Lógicos\n",
    "\n",
    "\n",
    " - Igualdade: ==\n",
    " - Diferença: !=\n",
    " - Maior que: >\n",
    " - Maior ou igual: >=\n",
    " - Menor que: <\n",
    " - Menor ou igual: <=\n",
    " - Resto da divisão: %"
   ]
  },
  {
   "cell_type": "code",
   "execution_count": 1,
   "id": "fdfdc270",
   "metadata": {},
   "outputs": [
    {
     "data": {
      "text/plain": [
       "False"
      ]
     },
     "execution_count": 1,
     "metadata": {},
     "output_type": "execute_result"
    }
   ],
   "source": [
    "1 > 3"
   ]
  },
  {
   "cell_type": "code",
   "execution_count": 2,
   "id": "0b2d452a",
   "metadata": {},
   "outputs": [
    {
     "data": {
      "text/plain": [
       "True"
      ]
     },
     "execution_count": 2,
     "metadata": {},
     "output_type": "execute_result"
    }
   ],
   "source": [
    "1 < 3"
   ]
  },
  {
   "cell_type": "code",
   "execution_count": 3,
   "id": "8c632592",
   "metadata": {},
   "outputs": [],
   "source": [
    "nome1 = 'Felicty'\n",
    "nome2 = 'Oliver'"
   ]
  },
  {
   "cell_type": "code",
   "execution_count": 4,
   "id": "bab3d8be",
   "metadata": {},
   "outputs": [
    {
     "data": {
      "text/plain": [
       "False"
      ]
     },
     "execution_count": 4,
     "metadata": {},
     "output_type": "execute_result"
    }
   ],
   "source": [
    "nome1 == nome2"
   ]
  },
  {
   "cell_type": "code",
   "execution_count": 5,
   "id": "74b6e2c0",
   "metadata": {},
   "outputs": [
    {
     "data": {
      "text/plain": [
       "True"
      ]
     },
     "execution_count": 5,
     "metadata": {},
     "output_type": "execute_result"
    }
   ],
   "source": [
    "nome1 != nome2"
   ]
  },
  {
   "cell_type": "code",
   "execution_count": 6,
   "id": "7852e504",
   "metadata": {},
   "outputs": [
    {
     "data": {
      "text/plain": [
       "'Felicty'"
      ]
     },
     "execution_count": 6,
     "metadata": {},
     "output_type": "execute_result"
    }
   ],
   "source": [
    "nome1"
   ]
  },
  {
   "cell_type": "markdown",
   "id": "4250ff1f",
   "metadata": {},
   "source": [
    "## Resto da Divisão"
   ]
  },
  {
   "cell_type": "code",
   "execution_count": 7,
   "id": "99a794ec",
   "metadata": {},
   "outputs": [
    {
     "data": {
      "text/plain": [
       "1.8"
      ]
     },
     "execution_count": 7,
     "metadata": {},
     "output_type": "execute_result"
    }
   ],
   "source": [
    "9 / 5"
   ]
  },
  {
   "cell_type": "code",
   "execution_count": 8,
   "id": "89d93ed1",
   "metadata": {},
   "outputs": [
    {
     "data": {
      "text/plain": [
       "4"
      ]
     },
     "execution_count": 8,
     "metadata": {},
     "output_type": "execute_result"
    }
   ],
   "source": [
    "9 % 5"
   ]
  }
 ],
 "metadata": {
  "kernelspec": {
   "display_name": "Python 3",
   "language": "python",
   "name": "python3"
  },
  "language_info": {
   "codemirror_mode": {
    "name": "ipython",
    "version": 3
   },
   "file_extension": ".py",
   "mimetype": "text/x-python",
   "name": "python",
   "nbconvert_exporter": "python",
   "pygments_lexer": "ipython3",
   "version": "3.12.1"
  }
 },
 "nbformat": 4,
 "nbformat_minor": 5
}
