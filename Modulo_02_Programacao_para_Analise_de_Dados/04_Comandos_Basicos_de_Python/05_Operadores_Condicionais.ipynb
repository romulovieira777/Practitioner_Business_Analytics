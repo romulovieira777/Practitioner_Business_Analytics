{
 "cells": [
  {
   "cell_type": "code",
   "execution_count": 1,
   "id": "9e29a009",
   "metadata": {},
   "outputs": [],
   "source": [
    "idade = 30"
   ]
  },
  {
   "cell_type": "code",
   "execution_count": 2,
   "id": "e7e0a497",
   "metadata": {},
   "outputs": [
    {
     "name": "stdout",
     "output_type": "stream",
     "text": [
      "falso\n"
     ]
    }
   ],
   "source": [
    "if idade == 28:\n",
    "    print(\"verdadeiro\")\n",
    "else:\n",
    "    print(\"falso\")"
   ]
  },
  {
   "cell_type": "code",
   "execution_count": 3,
   "id": "af9a3676",
   "metadata": {},
   "outputs": [
    {
     "name": "stdout",
     "output_type": "stream",
     "text": [
      "verdadeiro\n"
     ]
    }
   ],
   "source": [
    "if idade == 30:\n",
    "    print(\"verdadeiro\")\n",
    "elif idade == 28:\n",
    "    print(f\"idade = {idade}\")\n",
    "else:\n",
    "    print(\"falso\")"
   ]
  },
  {
   "cell_type": "code",
   "execution_count": 4,
   "id": "a8d82e8f",
   "metadata": {},
   "outputs": [
    {
     "data": {
      "text/plain": [
       "'Falso'"
      ]
     },
     "execution_count": 4,
     "metadata": {},
     "output_type": "execute_result"
    }
   ],
   "source": [
    "\"Verdadeiro\" if idade == 28 else \"Falso\""
   ]
  },
  {
   "cell_type": "code",
   "execution_count": 5,
   "id": "6239e655",
   "metadata": {},
   "outputs": [
    {
     "name": "stdout",
     "output_type": "stream",
     "text": [
      "Número par\n"
     ]
    }
   ],
   "source": [
    "if idade % 2 == 0:\n",
    "    print(\"Número par\")\n",
    "else:\n",
    "    print(\"Número ímpar\")"
   ]
  },
  {
   "cell_type": "code",
   "execution_count": 6,
   "id": "7ef2a75d",
   "metadata": {},
   "outputs": [
    {
     "data": {
      "text/plain": [
       "0"
      ]
     },
     "execution_count": 6,
     "metadata": {},
     "output_type": "execute_result"
    }
   ],
   "source": [
    "4 % 2"
   ]
  },
  {
   "cell_type": "code",
   "execution_count": 7,
   "id": "41406a64",
   "metadata": {},
   "outputs": [
    {
     "data": {
      "text/plain": [
       "1"
      ]
     },
     "execution_count": 7,
     "metadata": {},
     "output_type": "execute_result"
    }
   ],
   "source": [
    "5 % 2"
   ]
  },
  {
   "cell_type": "code",
   "execution_count": 8,
   "id": "aed79c2b",
   "metadata": {},
   "outputs": [
    {
     "data": {
      "text/plain": [
       "'Número par'"
      ]
     },
     "execution_count": 8,
     "metadata": {},
     "output_type": "execute_result"
    }
   ],
   "source": [
    "'Número par' if idade % 2 == 0 else 'Número ímpar'"
   ]
  }
 ],
 "metadata": {
  "kernelspec": {
   "display_name": "Python 3",
   "language": "python",
   "name": "python3"
  },
  "language_info": {
   "codemirror_mode": {
    "name": "ipython",
    "version": 3
   },
   "file_extension": ".py",
   "mimetype": "text/x-python",
   "name": "python",
   "nbconvert_exporter": "python",
   "pygments_lexer": "ipython3",
   "version": "3.12.1"
  }
 },
 "nbformat": 4,
 "nbformat_minor": 5
}
