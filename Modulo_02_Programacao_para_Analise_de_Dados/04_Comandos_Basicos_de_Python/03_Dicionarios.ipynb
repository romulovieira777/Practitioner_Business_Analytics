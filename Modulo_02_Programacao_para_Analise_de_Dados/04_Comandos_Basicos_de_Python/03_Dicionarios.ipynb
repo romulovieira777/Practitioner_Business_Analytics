{
 "cells": [
  {
   "cell_type": "code",
   "execution_count": 1,
   "id": "f9d14f6a",
   "metadata": {},
   "outputs": [],
   "source": [
    "# Definindo o dicionário\n",
    "pessoa = {\n",
    "    'nome': 'Felicty',\n",
    "    'idade': 29,\n",
    "    'profissao': 'Engenheira de Dados',\n",
    "    'cidade': 'São Paulo',\n",
    "    'altura': 1.65,\n",
    "    'hobbies': ['correr', 'ler', 'viajar']\n",
    "}"
   ]
  },
  {
   "cell_type": "code",
   "execution_count": 2,
   "id": "e3553f09",
   "metadata": {},
   "outputs": [
    {
     "data": {
      "text/plain": [
       "'Felicty'"
      ]
     },
     "execution_count": 2,
     "metadata": {},
     "output_type": "execute_result"
    }
   ],
   "source": [
    "# Acessando um valor pela chave\n",
    "pessoa['nome']"
   ]
  },
  {
   "cell_type": "code",
   "execution_count": 3,
   "id": "beaae224",
   "metadata": {},
   "outputs": [
    {
     "data": {
      "text/plain": [
       "dict_keys(['nome', 'idade', 'profissao', 'cidade', 'altura', 'hobbies'])"
      ]
     },
     "execution_count": 3,
     "metadata": {},
     "output_type": "execute_result"
    }
   ],
   "source": [
    "# Obtendo todas as chaves do dicionário\n",
    "pessoa.keys()"
   ]
  },
  {
   "cell_type": "code",
   "execution_count": 4,
   "id": "5326e3e7",
   "metadata": {},
   "outputs": [
    {
     "data": {
      "text/plain": [
       "dict_values(['Felicty', 29, 'Engenheira de Dados', 'São Paulo', 1.65, ['correr', 'ler', 'viajar']])"
      ]
     },
     "execution_count": 4,
     "metadata": {},
     "output_type": "execute_result"
    }
   ],
   "source": [
    "# Obtendo todos os valores do dicionário\n",
    "pessoa.values()"
   ]
  },
  {
   "cell_type": "code",
   "execution_count": 5,
   "id": "06ce0497",
   "metadata": {},
   "outputs": [
    {
     "data": {
      "text/plain": [
       "dict_items([('nome', 'Felicty'), ('idade', 29), ('profissao', 'Engenheira de Dados'), ('cidade', 'São Paulo'), ('altura', 1.65), ('hobbies', ['correr', 'ler', 'viajar'])])"
      ]
     },
     "execution_count": 5,
     "metadata": {},
     "output_type": "execute_result"
    }
   ],
   "source": [
    "# Obtendo os pares chave-valor\n",
    "pessoa.items()"
   ]
  },
  {
   "cell_type": "code",
   "execution_count": 6,
   "id": "c18b0d33",
   "metadata": {},
   "outputs": [
    {
     "data": {
      "text/plain": [
       "{'nome': 'Felicty',\n",
       " 'idade': 29,\n",
       " 'profissao': 'Engenheira de Dados',\n",
       " 'cidade': 'São Paulo',\n",
       " 'altura': 1.65,\n",
       " 'hobbies': ['correr', 'ler', 'viajar']}"
      ]
     },
     "execution_count": 6,
     "metadata": {},
     "output_type": "execute_result"
    }
   ],
   "source": [
    "# Visualizando o dicionário completo\n",
    "pessoa"
   ]
  }
 ],
 "metadata": {
  "kernelspec": {
   "display_name": "Python 3",
   "language": "python",
   "name": "python3"
  },
  "language_info": {
   "codemirror_mode": {
    "name": "ipython",
    "version": 3
   },
   "file_extension": ".py",
   "mimetype": "text/x-python",
   "name": "python",
   "nbconvert_exporter": "python",
   "pygments_lexer": "ipython3",
   "version": "3.12.1"
  }
 },
 "nbformat": 4,
 "nbformat_minor": 5
}
