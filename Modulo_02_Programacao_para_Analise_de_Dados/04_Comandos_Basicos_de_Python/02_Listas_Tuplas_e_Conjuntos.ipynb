{
 "cells": [
  {
   "cell_type": "code",
   "execution_count": 1,
   "id": "e71752df",
   "metadata": {},
   "outputs": [
    {
     "name": "stdout",
     "output_type": "stream",
     "text": [
      "Hello World!\n"
     ]
    }
   ],
   "source": [
    "print('Hello World!')"
   ]
  },
  {
   "cell_type": "markdown",
   "id": "f933928b",
   "metadata": {},
   "source": [
    "### Listas, Tuplas, Sets e Dicionários"
   ]
  },
  {
   "cell_type": "code",
   "execution_count": 2,
   "id": "ef1251b5",
   "metadata": {},
   "outputs": [],
   "source": [
    "minha_lista = ['Felicty', 29, 'Engenheira de Dados', 1.70]"
   ]
  },
  {
   "cell_type": "code",
   "execution_count": 3,
   "id": "1732583c",
   "metadata": {},
   "outputs": [
    {
     "data": {
      "text/plain": [
       "4"
      ]
     },
     "execution_count": 3,
     "metadata": {},
     "output_type": "execute_result"
    }
   ],
   "source": [
    "len(minha_lista)"
   ]
  },
  {
   "cell_type": "code",
   "execution_count": 4,
   "id": "69e66197",
   "metadata": {},
   "outputs": [
    {
     "name": "stdout",
     "output_type": "stream",
     "text": [
      "Felicty\n",
      "29\n"
     ]
    }
   ],
   "source": [
    "print(minha_lista[0])\n",
    "print(minha_lista[1])"
   ]
  },
  {
   "cell_type": "code",
   "execution_count": 5,
   "id": "cadf6fc5",
   "metadata": {},
   "outputs": [],
   "source": [
    "minha_lista.append('Pink')"
   ]
  },
  {
   "cell_type": "code",
   "execution_count": 6,
   "id": "6333b209",
   "metadata": {},
   "outputs": [
    {
     "name": "stdout",
     "output_type": "stream",
     "text": [
      "['Felicty', 29, 'Engenheira de Dados', 1.7, 'Pink']\n"
     ]
    }
   ],
   "source": [
    "print(minha_lista)"
   ]
  },
  {
   "cell_type": "code",
   "execution_count": 7,
   "id": "398bb7ec",
   "metadata": {},
   "outputs": [],
   "source": [
    "minha_lista.remove('Pink')"
   ]
  },
  {
   "cell_type": "code",
   "execution_count": 8,
   "id": "7969fac8",
   "metadata": {},
   "outputs": [
    {
     "name": "stdout",
     "output_type": "stream",
     "text": [
      "['Felicty', 29, 'Engenheira de Dados', 1.7]\n"
     ]
    }
   ],
   "source": [
    "print(minha_lista)"
   ]
  },
  {
   "cell_type": "code",
   "execution_count": 9,
   "id": "ba99fe23",
   "metadata": {},
   "outputs": [
    {
     "data": {
      "text/plain": [
       "'Felicty'"
      ]
     },
     "execution_count": 9,
     "metadata": {},
     "output_type": "execute_result"
    }
   ],
   "source": [
    "minha_lista.pop(0)"
   ]
  },
  {
   "cell_type": "code",
   "execution_count": 10,
   "id": "78c3ff0d",
   "metadata": {},
   "outputs": [
    {
     "name": "stdout",
     "output_type": "stream",
     "text": [
      "[29, 'Engenheira de Dados', 1.7]\n"
     ]
    }
   ],
   "source": [
    "print(minha_lista)"
   ]
  },
  {
   "cell_type": "code",
   "execution_count": 11,
   "id": "860844bc",
   "metadata": {},
   "outputs": [],
   "source": [
    "minha_lista.insert(0, 'Felicty')"
   ]
  }
 ],
 "metadata": {
  "kernelspec": {
   "display_name": "Python 3",
   "language": "python",
   "name": "python3"
  },
  "language_info": {
   "codemirror_mode": {
    "name": "ipython",
    "version": 3
   },
   "file_extension": ".py",
   "mimetype": "text/x-python",
   "name": "python",
   "nbconvert_exporter": "python",
   "pygments_lexer": "ipython3",
   "version": "3.12.1"
  }
 },
 "nbformat": 4,
 "nbformat_minor": 5
}
