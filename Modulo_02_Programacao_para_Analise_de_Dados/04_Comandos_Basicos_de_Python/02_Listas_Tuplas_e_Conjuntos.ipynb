{
 "cells": [
  {
   "cell_type": "code",
   "execution_count": 1,
   "id": "e71752df",
   "metadata": {},
   "outputs": [
    {
     "name": "stdout",
     "output_type": "stream",
     "text": [
      "Hello World!\n"
     ]
    }
   ],
   "source": [
    "print('Hello World!')"
   ]
  },
  {
   "cell_type": "markdown",
   "id": "f933928b",
   "metadata": {},
   "source": [
    "### Listas, Tuplas, Sets e Dicionários"
   ]
  },
  {
   "cell_type": "code",
   "execution_count": 2,
   "id": "ef1251b5",
   "metadata": {},
   "outputs": [],
   "source": [
    "minha_lista = ['Felicty', 29, 'Engenheira de Dados', 1.70]"
   ]
  },
  {
   "cell_type": "code",
   "execution_count": 3,
   "id": "1732583c",
   "metadata": {},
   "outputs": [
    {
     "data": {
      "text/plain": [
       "4"
      ]
     },
     "execution_count": 3,
     "metadata": {},
     "output_type": "execute_result"
    }
   ],
   "source": [
    "len(minha_lista)"
   ]
  },
  {
   "cell_type": "code",
   "execution_count": 4,
   "id": "69e66197",
   "metadata": {},
   "outputs": [
    {
     "name": "stdout",
     "output_type": "stream",
     "text": [
      "Felicty\n",
      "29\n"
     ]
    }
   ],
   "source": [
    "print(minha_lista[0])\n",
    "print(minha_lista[1])"
   ]
  },
  {
   "cell_type": "code",
   "execution_count": 5,
   "id": "cadf6fc5",
   "metadata": {},
   "outputs": [],
   "source": [
    "minha_lista.append('Pink')"
   ]
  },
  {
   "cell_type": "code",
   "execution_count": 6,
   "id": "6333b209",
   "metadata": {},
   "outputs": [
    {
     "name": "stdout",
     "output_type": "stream",
     "text": [
      "['Felicty', 29, 'Engenheira de Dados', 1.7, 'Pink']\n"
     ]
    }
   ],
   "source": [
    "print(minha_lista)"
   ]
  },
  {
   "cell_type": "code",
   "execution_count": 7,
   "id": "398bb7ec",
   "metadata": {},
   "outputs": [],
   "source": [
    "minha_lista.remove('Pink')"
   ]
  },
  {
   "cell_type": "code",
   "execution_count": 8,
   "id": "7969fac8",
   "metadata": {},
   "outputs": [
    {
     "name": "stdout",
     "output_type": "stream",
     "text": [
      "['Felicty', 29, 'Engenheira de Dados', 1.7]\n"
     ]
    }
   ],
   "source": [
    "print(minha_lista)"
   ]
  },
  {
   "cell_type": "code",
   "execution_count": 9,
   "id": "ba99fe23",
   "metadata": {},
   "outputs": [
    {
     "data": {
      "text/plain": [
       "'Felicty'"
      ]
     },
     "execution_count": 9,
     "metadata": {},
     "output_type": "execute_result"
    }
   ],
   "source": [
    "minha_lista.pop(0)"
   ]
  },
  {
   "cell_type": "code",
   "execution_count": 10,
   "id": "78c3ff0d",
   "metadata": {},
   "outputs": [
    {
     "name": "stdout",
     "output_type": "stream",
     "text": [
      "[29, 'Engenheira de Dados', 1.7]\n"
     ]
    }
   ],
   "source": [
    "print(minha_lista)"
   ]
  },
  {
   "cell_type": "code",
   "execution_count": 11,
   "id": "860844bc",
   "metadata": {},
   "outputs": [],
   "source": [
    "minha_lista.insert(0, 'Felicty')"
   ]
  },
  {
   "cell_type": "code",
   "execution_count": 12,
   "id": "9fef61f3",
   "metadata": {},
   "outputs": [
    {
     "name": "stdout",
     "output_type": "stream",
     "text": [
      "['Felicty', 29, 'Engenheira de Dados', 1.7]\n"
     ]
    }
   ],
   "source": [
    "print(minha_lista)"
   ]
  },
  {
   "cell_type": "code",
   "execution_count": 13,
   "id": "9f41c66e",
   "metadata": {},
   "outputs": [],
   "source": [
    "nome = minha_lista.pop(0)"
   ]
  },
  {
   "cell_type": "code",
   "execution_count": 14,
   "id": "ec72d97e",
   "metadata": {},
   "outputs": [
    {
     "name": "stdout",
     "output_type": "stream",
     "text": [
      "Felicty\n"
     ]
    }
   ],
   "source": [
    "print(nome)"
   ]
  },
  {
   "cell_type": "code",
   "execution_count": 15,
   "id": "58955bfa",
   "metadata": {},
   "outputs": [],
   "source": [
    "minha_tupla = ('Felicty', 29, 'Engenheira de Dados', 1.70)"
   ]
  },
  {
   "cell_type": "code",
   "execution_count": 16,
   "id": "dadd1e36",
   "metadata": {},
   "outputs": [
    {
     "name": "stdout",
     "output_type": "stream",
     "text": [
      "<class 'tuple'>\n"
     ]
    }
   ],
   "source": [
    "print(type(minha_tupla))"
   ]
  },
  {
   "cell_type": "code",
   "execution_count": 17,
   "id": "81520ec0",
   "metadata": {},
   "outputs": [
    {
     "data": {
      "text/plain": [
       "'Felicty'"
      ]
     },
     "execution_count": 17,
     "metadata": {},
     "output_type": "execute_result"
    }
   ],
   "source": [
    "minha_tupla[0]"
   ]
  },
  {
   "cell_type": "code",
   "execution_count": 18,
   "id": "18c63225",
   "metadata": {},
   "outputs": [
    {
     "data": {
      "text/plain": [
       "1.7"
      ]
     },
     "execution_count": 18,
     "metadata": {},
     "output_type": "execute_result"
    }
   ],
   "source": [
    "minha_tupla[3]"
   ]
  },
  {
   "cell_type": "code",
   "execution_count": 19,
   "id": "8818d912",
   "metadata": {},
   "outputs": [
    {
     "data": {
      "text/plain": [
       "1"
      ]
     },
     "execution_count": 19,
     "metadata": {},
     "output_type": "execute_result"
    }
   ],
   "source": [
    "minha_tupla.count('Felicty')"
   ]
  },
  {
   "cell_type": "code",
   "execution_count": 20,
   "id": "25c70e7e",
   "metadata": {},
   "outputs": [
    {
     "data": {
      "text/plain": [
       "0"
      ]
     },
     "execution_count": 20,
     "metadata": {},
     "output_type": "execute_result"
    }
   ],
   "source": [
    "minha_tupla.index('Felicty')"
   ]
  },
  {
   "cell_type": "code",
   "execution_count": 21,
   "id": "f1ff9322",
   "metadata": {},
   "outputs": [
    {
     "data": {
      "text/plain": [
       "29"
      ]
     },
     "execution_count": 21,
     "metadata": {},
     "output_type": "execute_result"
    }
   ],
   "source": [
    "minha_lista[0]"
   ]
  },
  {
   "cell_type": "code",
   "execution_count": 22,
   "id": "4655cabe",
   "metadata": {},
   "outputs": [
    {
     "data": {
      "text/plain": [
       "29"
      ]
     },
     "execution_count": 22,
     "metadata": {},
     "output_type": "execute_result"
    }
   ],
   "source": [
    "minha_lista[-3]"
   ]
  },
  {
   "cell_type": "code",
   "execution_count": 23,
   "id": "bcebd05f",
   "metadata": {},
   "outputs": [],
   "source": [
    "meu_set = set(['Felicty', 29, 'Engenheira de Dados', 1.70, 29, 'Felicty'])"
   ]
  },
  {
   "cell_type": "code",
   "execution_count": 24,
   "id": "19971315",
   "metadata": {},
   "outputs": [
    {
     "data": {
      "text/plain": [
       "{1.7, 29, 'Engenheira de Dados', 'Felicty'}"
      ]
     },
     "execution_count": 24,
     "metadata": {},
     "output_type": "execute_result"
    }
   ],
   "source": [
    "meu_set"
   ]
  }
 ],
 "metadata": {
  "kernelspec": {
   "display_name": "Python 3",
   "language": "python",
   "name": "python3"
  },
  "language_info": {
   "codemirror_mode": {
    "name": "ipython",
    "version": 3
   },
   "file_extension": ".py",
   "mimetype": "text/x-python",
   "name": "python",
   "nbconvert_exporter": "python",
   "pygments_lexer": "ipython3",
   "version": "3.12.1"
  }
 },
 "nbformat": 4,
 "nbformat_minor": 5
}
