{
 "cells": [
  {
   "cell_type": "code",
   "execution_count": 1,
   "id": "4dcc0371",
   "metadata": {},
   "outputs": [
    {
     "name": "stdout",
     "output_type": "stream",
     "text": [
      "Felicty\n",
      "Felicty\n"
     ]
    }
   ],
   "source": [
    "nome = 'Felicty'\n",
    "nome2 = \"Felicty\"\n",
    "\n",
    "print(nome)\n",
    "print(nome2)"
   ]
  },
  {
   "cell_type": "code",
   "execution_count": 2,
   "id": "25174893",
   "metadata": {},
   "outputs": [
    {
     "name": "stdout",
     "output_type": "stream",
     "text": [
      "28\n"
     ]
    }
   ],
   "source": [
    "a = 28\n",
    "print(a)"
   ]
  },
  {
   "cell_type": "code",
   "execution_count": 3,
   "id": "c4da1092",
   "metadata": {},
   "outputs": [
    {
     "name": "stdout",
     "output_type": "stream",
     "text": [
      "<class 'str'>\n",
      "<class 'int'>\n"
     ]
    }
   ],
   "source": [
    "print(type(nome))\n",
    "print(type(a))"
   ]
  },
  {
   "cell_type": "code",
   "execution_count": 4,
   "id": "04dbc580",
   "metadata": {},
   "outputs": [
    {
     "name": "stdout",
     "output_type": "stream",
     "text": [
      "1.333\n",
      "<class 'float'>\n"
     ]
    }
   ],
   "source": [
    "b = 1.333\n",
    "print(b)\n",
    "print(type(b))"
   ]
  },
  {
   "cell_type": "code",
   "execution_count": 5,
   "id": "deebea08",
   "metadata": {},
   "outputs": [
    {
     "name": "stdout",
     "output_type": "stream",
     "text": [
      "Olá mundo!\n"
     ]
    }
   ],
   "source": [
    "print('Olá mundo!')"
   ]
  },
  {
   "cell_type": "code",
   "execution_count": 6,
   "id": "19c43d69",
   "metadata": {},
   "outputs": [
    {
     "name": "stdout",
     "output_type": "stream",
     "text": [
      "29.333\n"
     ]
    }
   ],
   "source": [
    "print(a + b)"
   ]
  },
  {
   "cell_type": "code",
   "execution_count": 7,
   "id": "74e82307",
   "metadata": {},
   "outputs": [],
   "source": [
    "idade = 28"
   ]
  },
  {
   "cell_type": "code",
   "execution_count": 8,
   "id": "2d83fe48",
   "metadata": {},
   "outputs": [],
   "source": [
    "profissao = 'Analista de Dados'"
   ]
  },
  {
   "cell_type": "code",
   "execution_count": 9,
   "id": "a4f5b8fc",
   "metadata": {},
   "outputs": [
    {
     "name": "stdout",
     "output_type": "stream",
     "text": [
      "Felicty tem 28 anos e trabalha como Analista de Dados\n"
     ]
    }
   ],
   "source": [
    "print(nome + ' tem ' + str(idade) + ' anos e trabalha como ' + profissao)"
   ]
  },
  {
   "cell_type": "code",
   "execution_count": 10,
   "id": "e794edf0",
   "metadata": {},
   "outputs": [
    {
     "name": "stdout",
     "output_type": "stream",
     "text": [
      "Felicty é uma Analista de Dados\n"
     ]
    }
   ],
   "source": [
    "print(nome + ' é uma ' + profissao)"
   ]
  },
  {
   "cell_type": "code",
   "execution_count": 11,
   "id": "e899cd7f",
   "metadata": {},
   "outputs": [
    {
     "name": "stdout",
     "output_type": "stream",
     "text": [
      "<class 'str'>\n",
      "<class 'str'>\n"
     ]
    }
   ],
   "source": [
    "print(type(nome))\n",
    "print(type(profissao))"
   ]
  },
  {
   "cell_type": "code",
   "execution_count": 12,
   "id": "589c9869",
   "metadata": {},
   "outputs": [],
   "source": [
    "idade_str = str(idade)"
   ]
  },
  {
   "cell_type": "code",
   "execution_count": 13,
   "id": "31fb53e1",
   "metadata": {},
   "outputs": [
    {
     "name": "stdout",
     "output_type": "stream",
     "text": [
      "<class 'str'>\n"
     ]
    }
   ],
   "source": [
    "print(type(idade_str))"
   ]
  },
  {
   "cell_type": "code",
   "execution_count": 14,
   "id": "a6e89174",
   "metadata": {},
   "outputs": [
    {
     "name": "stdout",
     "output_type": "stream",
     "text": [
      "Felicty tem 28.\n"
     ]
    }
   ],
   "source": [
    "print('{} tem {}.'.format(nome, idade))"
   ]
  },
  {
   "cell_type": "code",
   "execution_count": 15,
   "id": "71118b26",
   "metadata": {},
   "outputs": [
    {
     "name": "stdout",
     "output_type": "stream",
     "text": [
      "Felicty tem 28 anos e trabalha como Analista de Dados.\n"
     ]
    }
   ],
   "source": [
    "print(f'{nome} tem {idade} anos e trabalha como {profissao}.')"
   ]
  },
  {
   "cell_type": "code",
   "execution_count": 16,
   "id": "7fbcf8c0",
   "metadata": {},
   "outputs": [
    {
     "name": "stdout",
     "output_type": "stream",
     "text": [
      "<class 'int'>\n"
     ]
    }
   ],
   "source": [
    "print(type(idade))"
   ]
  }
 ],
 "metadata": {
  "kernelspec": {
   "display_name": "Python 3",
   "language": "python",
   "name": "python3"
  },
  "language_info": {
   "codemirror_mode": {
    "name": "ipython",
    "version": 3
   },
   "file_extension": ".py",
   "mimetype": "text/x-python",
   "name": "python",
   "nbconvert_exporter": "python",
   "pygments_lexer": "ipython3",
   "version": "3.12.1"
  }
 },
 "nbformat": 4,
 "nbformat_minor": 5
}
