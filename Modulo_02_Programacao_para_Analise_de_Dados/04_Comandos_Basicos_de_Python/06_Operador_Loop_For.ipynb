{
 "cells": [
  {
   "cell_type": "code",
   "execution_count": 1,
   "id": "54dafa82",
   "metadata": {},
   "outputs": [],
   "source": [
    "lista = [1, 2, 3, 4, 5]"
   ]
  },
  {
   "cell_type": "code",
   "execution_count": 2,
   "id": "81b502e1",
   "metadata": {},
   "outputs": [
    {
     "name": "stdout",
     "output_type": "stream",
     "text": [
      "1\n"
     ]
    }
   ],
   "source": [
    "print(lista[0])  # Imprime o primeiro elemento"
   ]
  },
  {
   "cell_type": "code",
   "execution_count": 3,
   "id": "b70b969e",
   "metadata": {},
   "outputs": [
    {
     "name": "stdout",
     "output_type": "stream",
     "text": [
      "2\n"
     ]
    }
   ],
   "source": [
    "print(lista[1])  # Imprime o segundo elemento"
   ]
  },
  {
   "cell_type": "code",
   "execution_count": 4,
   "id": "fee77cf4",
   "metadata": {},
   "outputs": [
    {
     "name": "stdout",
     "output_type": "stream",
     "text": [
      "1\n",
      "2\n",
      "3\n",
      "4\n",
      "5\n"
     ]
    }
   ],
   "source": [
    "for num in lista:\n",
    "    print(num)  # Imprime todos os elementos da lista"
   ]
  },
  {
   "cell_type": "code",
   "execution_count": 5,
   "id": "b1fb57b2",
   "metadata": {},
   "outputs": [
    {
     "name": "stdout",
     "output_type": "stream",
     "text": [
      "O índice 0 tem o valor 1\n",
      "O índice 1 tem o valor 2\n",
      "O índice 2 tem o valor 3\n",
      "O índice 3 tem o valor 4\n",
      "O índice 4 tem o valor 5\n"
     ]
    }
   ],
   "source": [
    "for idx, num in enumerate(lista):  # Imprime o índice e o valor de cada elemento\n",
    "    print(f\"O índice {idx} tem o valor {num}\")"
   ]
  },
  {
   "cell_type": "code",
   "execution_count": 6,
   "id": "8eca9b57",
   "metadata": {},
   "outputs": [
    {
     "name": "stdout",
     "output_type": "stream",
     "text": [
      "[2, 4, 6, 8, 10]\n"
     ]
    }
   ],
   "source": [
    "lista_dobro = []\n",
    "for i in lista:\n",
    "    lista_dobro.append(i * 2)  # Cria uma nova lista com o dobro dos valores\n",
    "print(lista_dobro)  # Imprime a nova lista com os valores dobrados"
   ]
  },
  {
   "cell_type": "code",
   "execution_count": 7,
   "id": "8620c35a",
   "metadata": {},
   "outputs": [
    {
     "name": "stdout",
     "output_type": "stream",
     "text": [
      "[2, 4, 6, 8, 10]\n"
     ]
    }
   ],
   "source": [
    "lista_dobro = [i * 2 for i in lista]  # Usando list comprehension para criar a nova lista\n",
    "print(lista_dobro)"
   ]
  },
  {
   "cell_type": "code",
   "execution_count": 8,
   "id": "3ef785ac",
   "metadata": {},
   "outputs": [
    {
     "name": "stdout",
     "output_type": "stream",
     "text": [
      "[2, 4]\n"
     ]
    }
   ],
   "source": [
    "lista_par = [i for i in lista if i % 2 == 0]  # Filtra os números pares da lista original\n",
    "print(lista_par)  # Imprime a lista com os números pares"
   ]
  },
  {
   "cell_type": "code",
   "execution_count": 9,
   "id": "f9bad0f3",
   "metadata": {},
   "outputs": [
    {
     "name": "stdout",
     "output_type": "stream",
     "text": [
      "[2, 4]\n"
     ]
    }
   ],
   "source": [
    "lista_par = []\n",
    "for i in lista:\n",
    "    if i % 2 == 0:\n",
    "        lista_par.append(i)  # Adiciona os números pares à nova lista\n",
    "print(lista_par)  # Imprime a lista com os números pares"
   ]
  }
 ],
 "metadata": {
  "kernelspec": {
   "display_name": "Python 3",
   "language": "python",
   "name": "python3"
  },
  "language_info": {
   "codemirror_mode": {
    "name": "ipython",
    "version": 3
   },
   "file_extension": ".py",
   "mimetype": "text/x-python",
   "name": "python",
   "nbconvert_exporter": "python",
   "pygments_lexer": "ipython3",
   "version": "3.12.1"
  }
 },
 "nbformat": 4,
 "nbformat_minor": 5
}
