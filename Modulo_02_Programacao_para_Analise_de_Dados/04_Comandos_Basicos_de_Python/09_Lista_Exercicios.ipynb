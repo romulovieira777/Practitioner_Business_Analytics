{
 "cells": [
  {
   "cell_type": "markdown",
   "id": "1b22ae91",
   "metadata": {},
   "source": [
    "## INTRODUÇÃO <a class='anchor' id='introduction'></a>\n",
    "\n",
    "### O que é Python?\n",
    "\n",
    "Trata-se de uma linguagem de programação de uso geral, de fácil compreensão e transformadora.\n",
    "\n",
    "Agora apresentaremos algumas informações sobre o histórico desta linguagem. Acompanhe a seguir!\n",
    "\n",
    "- A linguagem Python foi lançada em 1991 por Guido Van Rossum, na Holanda.\n",
    "\n",
    "- Ela é **interpretada**, isto é, processada por um interpretador, geralmente por um software. (ex. <a href=\"https://www.python.org/downloads/\">Interpretador padrão</a>, e <a href=\"https://anaconda.org/\">Anaconda Python</a>)\n",
    "\n",
    "(Interpretador padrão + pacotes auxiliares)\n",
    "\n",
    "- É portátil e **multiplataforma**, pois pode ser executada por outras plataformas (Linux/Windows/Mac) que suportem Python.\n",
    "\n",
    "- É **orientada a objetos**, ou seja...\n",
    "\n",
    "- A linguagem Python é ideal para execução de scripts (sequências de comandos sem necessidade de compilação), para desenvolvimento de aplicações nas mais diversas áreas e plataformas.\n",
    "\n",
    "- Devido à sua popularidade, possui uma das linguagens que cresce constantemente (metaref/ajuda)\n",
    "\n",
    "- Python é classificada como uma das linguagens mais queridas e utilizadas: <a href=\"https://insights.stackoverflow.com/trends?tags=java%2Cc%2Cjavascript%2Cpython%2C%23c%2Cvb.net%2C%2Cassembly%2Cphp%2Ctypescript%2Cruby%2Cgo%2Cobjective-c\">Stackoverflow</a> (fórum de encontro de desenvolvedores para discussões/debates)\n",
    "\n",
    "<div style=\"text-align: center;\"> <img src=\"https://dkrn4sk0rn31v.cloudfront.net/uploads/2020/01/07093212/PYTHON.png\" style='width:700px;height:350px'> </div>\n",
    "\n",
    "\n",
    "Atualmente temos duas versões de Python:\n",
    "\n",
    "- Python 2 (esta sendo descontinuado)\n",
    "\n",
    "- **Python 3** *(será usado neste curso)*\n",
    "\n",
    "Basicamente, existem 3 maneiras de executar programas em Python. São elas:\n",
    "\n",
    "- Modo shell  \n",
    "- Modo Script (arquivos com extensão *.py*)  \n",
    "- Modo interativo (Jupyter Notebook, *.ipynb*)  \n",
    "\n",
    "### Modo shell\n",
    "\n",
    "Dentro deste modo, o Python nos permite usar a linha de comando para rolar comandos e executar nosso código mais rapidamente.\n",
    "\n",
    "Para isso precisamos tê-lo instalado na nossa máquina.  \n",
    "Observação: para verificar se o programa está instalado podemos executar o seguinte comando em um terminal:\n",
    "\n",
    "1. Abra o terminal, digite <font color=\"blue\">cmd</font>  \n",
    "2. <code>C:\\Users\\YourName\\></code><font color=\"blue\"> python --version</font>  \n",
    "\n",
    "Executou:\n",
    "\n",
    "1. Abra o terminal, digite <font color=\"blue\">cmd</font>  \n",
    "2. <code>C:\\Users\\YourName\\></code><font color=\"blue\"> python</font>  \n",
    "3. Executar <font color=\"blue\"> 2+2</font>  \n",
    "4. Finalizar a execução da linha de comando do python, digite <font color=\"blue\">exit()</font>\n",
    "\n",
    "### Modo script\n",
    "\n",
    "Quando criamos um arquivo com extensão *.py* em um editor de texto, podemos colocar este arquivo em um interpretador Python e executá-lo.\n",
    "\n",
    "Para executá-lo, o seguinte comando:\n",
    "\n",
    "1. Abra o terminal, digite <font color=\"blue\">cmd</font>  \n",
    "2. <code>C:\\Users\\YourName\\></code><font color=\"blue\"> python --version</font>  \n",
    "3. <code>C:\\Users\\YourName\\></code><font color=\"blue\"> python hello.py</font>\n",
    "\n",
    "### Modo interativo\n",
    "\n",
    "É possível executar o código Python interativamente com Jupyter Notebook através do VSCode (Visual Studio Code). Para isto, siga os passos a seguir:\n",
    "\n",
    "1. Linha de comando (Windows/Linux): <code>C:\\Users\\SeuNome\\></code><font color=\"blue\"> code .</font>  \n",
    "2. <button name=\"button\">Ctrl</button> + <button name=\"button\">Alt</button> + <button name=\"button\">N</button> + <button name=\"button\">K</button> ou ir no menu \"File\" e escolher \"New File...\"  \n",
    "3. Clic \"Jupyter Notebook\"  \n",
    "4. E estamos prontos para escrever o nosso primeiro cod\n",
    "\n",
    "\n",
    "### Por que aprender Python?\n",
    "\n",
    "<div style=\"text-align: center;\">\n",
    "<img src=\"https://hermes.dio.me/articles/cover/9c428c07-7bd1-4bfe-9f71-ed2fc2e8ff54.png\" width: 10% >\n",
    "</div>\n",
    "\n",
    "\n",
    "\n",
    "- Esta linguagem de programação permite diversos desenvolvimentos de forma prática, ágil e rápida.\n",
    "\n",
    "- É uma das linguagens de programação mais estáveis que existe, amplamente utilizada nas mais diversas áreas. Ou seja, permite programar desde videogames até aplicações mobile.\n",
    "\n",
    "- É amplamente utilizada para análise de dados, inteligência artificial, construção de aplicações web e muito mais.\n",
    "\n",
    "- Sua semelhança com a língua inglesa torna-a uma língua de fácil compreensão.\n",
    "\n",
    "- É claro que a programação em Python não será a única que você aprenderá, mas é uma excelente linguagem para começar. O sistema Python permite o desenvolvimento e criação de diversos programas.\n",
    "\n",
    "\n",
    "\n",
    "\n",
    "### O que pode ser feito em Python?\n",
    "\n",
    "\n",
    "Dividimos em 3 áreas principais de aplicação:\n",
    "\n",
    "- Análise de dados e ciência de dados;\n",
    "- Automação: Essa área é possível automatizar tarefas repetitivas, como RPA, etc.\n",
    "- Desenvolvimento Web: construção de sites, aplicativos, jogos e programação em geral.\n",
    "\n",
    "#### <font color=\"orange\"> Bom, você já viu o que é Python, para que serve e o que pode ser feito. Bem, agora é hora de conhecer os recursos do Python. </font>\n"
   ]
  },
  {
   "cell_type": "markdown",
   "id": "e367fbc1",
   "metadata": {},
   "source": [
    "**O que precisamos programar?**\n",
    "\n",
    "Precisamos programar em uma ferramenta para escrever nosso código **IDE** (Integrated Development Environment). E o que é IDE? Trata-se de um programa de computador que reúne recursos e ferramentas de suporte ao desenvolvimento de software a fim de agilizar esse processo.\n",
    "\n",
    "- **Jupyter Notebook:**\n",
    "  - Permite-nos programar no navegador\n",
    "  - Permite ainda criar um documento mais ou um manual\n",
    "  - Torna possível executar o código em pedaços (células)\n",
    "  - Facilita a visualização de gráficos e resultados\n",
    "  - Exporta o código *.ipynb* e *.html* ou *.pdf*\n",
    "\n",
    "- Editor Texto\n",
    "- PyCharm\n",
    "- Spyder\n",
    "- Google Colab: Nenhuma instalação é necessária, é um Jupyter Notebook online\n",
    "- ..."
   ]
  },
  {
   "cell_type": "markdown",
   "id": "402d09da",
   "metadata": {},
   "source": [
    "## Quick Start\n",
    "#### JUPYTER NOTEBOOK - PRINCIPAIS COMANDOS\n",
    "\n",
    "<img src=\"https://jupyter.org/assets/homepage/main-logo.svg\" style='width:300px;height:100px'/>\n",
    "\n",
    "- Criar célula nova abaixo: <button name=\"button\">B</button>  \n",
    "<br/>\n",
    "\n",
    "- Criar célula nova acima: <button name=\"button\">A</button>  \n",
    "<br/>\n",
    "\n",
    "- Run célula selecionada: <button name=\"button\">CTRL</button> + <button name=\"button\">ENTER</button>\n"
   ]
  },
  {
   "cell_type": "markdown",
   "id": "3f917a9d",
   "metadata": {},
   "source": [
    "----"
   ]
  },
  {
   "cell_type": "markdown",
   "id": "e089809e",
   "metadata": {},
   "source": [
    "<img src=\"https://i2.wp.com/www.caja-abogados.org.ar/wp-content/uploads/2020/03/importante.jpg?fit=600%2C296&ssl=1\" style=\"width:200px;height:100px\"/>\n",
    "\n",
    "**Atenção:** Mensagem de erro. Mas não é preciso ter medo! Esta é uma oportunidade de aprendizado. Ao criar o hábito de ler o erro, pesquisamos onde encontra-se o problema e o solucionamos.\n",
    "\n",
    "----"
   ]
  },
  {
   "cell_type": "markdown",
   "id": "380c866e",
   "metadata": {},
   "source": [
    "#### <font color=\"orange\">&#128221; Módulo 1: Comandos básicos de Python<font>"
   ]
  },
  {
   "cell_type": "markdown",
   "id": "14787eca",
   "metadata": {},
   "source": [
    "## Identação, criação de variáveis e comentários\n",
    "\n",
    "- Identação se refere aos espaços em branco no início de uma linha de código.\n",
    "Equanto em outras linguagens de programação identação é utilizada apenas para facilitar a leitura, em Python ela é muito importante por outros motivos.\n",
    "\n",
    "- Uma variável pode ter um nome simples (como \"x\" ou \"y\") ou pode ter um nome descritivo (como idade, nome, volume, total). Mas existem algumas regras a serem seguidas, conforme a seguir:\n",
    "    - Um nome de variável deve começar com uma letra ou um underline.\n",
    "    - Um nome de variável não pode começar com um número.\n",
    "    - Um nome de variável só pode conter caracteres alfa-numéricos e underlines (A-z, 0-9, e _).\n",
    "    - Não é possível usar palavras reservadas como:\n",
    "        - *False class, finalmente, is, return, None, continue, for, lambda, try, return, True, def, from, nonlocal, while, and, del, global, not, with, como, elif, if, ou, rendimento, afirmar, senão, importar, passar, quebrar, exceto, em , aumentar*.\n",
    "    - Python nos permite escrever comentários e estes podem ser usados para documentar nosso código, ou para evitar que uma linha de código seja executada ou por qualquer outro motivo.\n",
    "        - Comentários começam com <font color='green'><b> # </b> </font> , e é importante mencionar que tudo após o hash na mesma linha será tratado como comentário e ignorado pelo interpretador.\n",
    "\n"
   ]
  },
  {
   "cell_type": "markdown",
   "id": "d303301f",
   "metadata": {},
   "source": [
    "#### <font color='orange'> &#9997; Exercício 1</font>"
   ]
  },
  {
   "cell_type": "markdown",
   "id": "b532cdeb",
   "metadata": {},
   "source": [
    "#### <font color=\"orange\"> Corrija, comente o código e visualize o resultado. Além disto, altere os valores de a e b para ver os diferentes resultados.<font>"
   ]
  },
  {
   "cell_type": "code",
   "execution_count": 1,
   "id": "902d5f7c",
   "metadata": {},
   "outputs": [
    {
     "name": "stdout",
     "output_type": "stream",
     "text": [
      "5000 é maior que 125.\n"
     ]
    }
   ],
   "source": [
    "# Corrija e comente o código\n",
    "\n",
    "# Defina suas variáveis\n",
    "a = 5000\n",
    "b = 125\n",
    "\n",
    "# O condicional if é responsável por testar uma condição no seu código. Retornando Falso ou verdadeiro.\n",
    "if a > b:\n",
    "    print(f\"{a} é maior que {b}.\")\n",
    "elif a == b:\n",
    "    print(f\"{a} e {b} são iguais.\")\n",
    "else:\n",
    "    print(f\"{a} é menor que {b}.\")"
   ]
  },
  {
   "cell_type": "code",
   "execution_count": 2,
   "id": "5003c371",
   "metadata": {},
   "outputs": [
    {
     "name": "stdout",
     "output_type": "stream",
     "text": [
      "O email do Santos é joao.santos@itau.com.br.\n"
     ]
    }
   ],
   "source": [
    "# Corrija e comente o código\n",
    "nome = \"João\"\n",
    "nome1 = \"Santos\"\n",
    "email = \"joao.santos@itau.com.br\"\n",
    "\n",
    "print(f\"O email do {nome1} é {email}.\")"
   ]
  },
  {
   "cell_type": "markdown",
   "id": "98ac1d40",
   "metadata": {},
   "source": [
    "#### <font color='orange'> &#9997; Exercício 2</font>"
   ]
  },
  {
   "cell_type": "markdown",
   "id": "acf6cb90",
   "metadata": {},
   "source": [
    "Primeiramente, atribua os valores às variáveis e print a frase com seus dados:\n",
    "\n",
    "1. nome\n",
    "2. idade\n",
    "3. profissão\n",
    "4. squad\n",
    "5. hobbies\n",
    "\n",
    "\"Olá, me chamo **nome** e tenho **idade** anos. Atualmente sou **profissão** no Itaú na squad **squad**. Gosto muito de **hobbies** nas horas vagas.\"\n",
    "\n",
    "Na sequência, faça um print com o nome das variáveis, como idade, profissão e hobbies e seus tipos – \"A variável **nome** é do tipo 'x'. \""
   ]
  },
  {
   "cell_type": "code",
   "execution_count": 1,
   "id": "619c5bff",
   "metadata": {},
   "outputs": [
    {
     "name": "stdout",
     "output_type": "stream",
     "text": [
      "Olá! me chamo Felicity e tenho 30 anos. Atualmente sou Engenheira de Dados no Itaú na squad DPD. Gosto muito de hobbies como Correr, Ler e Viajar nas horas vagas.\n",
      "<class 'str'>\n",
      "<class 'int'>\n",
      "<class 'str'>\n",
      "<class 'str'>\n",
      "<class 'list'>\n"
     ]
    }
   ],
   "source": [
    "nome = 'Felicity'\n",
    "idade = 30\n",
    "profissao = 'Engenheira de Dados'\n",
    "squad = 'DPD'\n",
    "hobbies = ['Correr', 'Ler', 'Viajar']\n",
    "\n",
    "print(f'Olá! me chamo {nome} e tenho {idade} anos. Atualmente sou {profissao} no Itaú na squad {squad}. Gosto muito de hobbies como {hobbies[0]}, {hobbies[1]} e {hobbies[2]} nas horas vagas.')\n",
    "\n",
    "print(type(nome)) # Verifica o tipo da variável nome\n",
    "print(type(idade)) # Verifica o tipo da variável idade\n",
    "print(type(profissao)) # Verifica o tipo da variável profissão\n",
    "print(type(squad)) # Verifica o tipo da variável squad\n",
    "print(type(hobbies)) # Verifica o tipo da variável hobbies"
   ]
  },
  {
   "cell_type": "markdown",
   "id": "29922966",
   "metadata": {},
   "source": [
    "Agora, crie uma lista com esses valores e utilize para printar a mesma frase.\n",
    "Também realize o print do tamanho da sua lista, com a quantidade de itens que ela possui."
   ]
  },
  {
   "cell_type": "code",
   "execution_count": 4,
   "id": "4abdd746",
   "metadata": {},
   "outputs": [
    {
     "name": "stdout",
     "output_type": "stream",
     "text": [
      "Olá! me chamo Felicity e tenho 30 anos. Atualmente sou Engenheira de Dados no Itaú na squad DPD. Gosto muito de hobbies como Correr, Ler e Viajar nas horas vagas.\n",
      "----------------------------------------------------------------------------------------------------\n",
      "Minha lista contém 7 elementos.\n"
     ]
    }
   ],
   "source": [
    "lista = ['Felicity', 30, 'Engenheira de Dados', 'DPD', 'Correr', 'Ler', 'Viajar']\n",
    "print(f'Olá! me chamo {lista[0]} e tenho {lista[1]} anos. Atualmente sou {lista[2]} no Itaú na squad {lista[3]}. Gosto muito de hobbies como {lista[4]}, {lista[5]} e {lista[6]} nas horas vagas.')\n",
    "print('-' * 100)\n",
    "print(f'Minha lista contém {len(lista)} elementos.')"
   ]
  },
  {
   "cell_type": "markdown",
   "id": "101fd120",
   "metadata": {},
   "source": [
    "Agora, exclua a posição 0 da sua lista e também seus hobbies, depois print sua lista para visualizar como ela ficou.\n",
    "Por fim, na posição 0, adicione seu apelido (o nome que as pessoas costumam te chamar) e no lugar dos hobbies anteriores coloque hobbies diferentes."
   ]
  },
  {
   "cell_type": "code",
   "execution_count": 5,
   "id": "1693bd54",
   "metadata": {},
   "outputs": [
    {
     "name": "stdout",
     "output_type": "stream",
     "text": [
      "Agora eu tenho 1 hobbies.\n",
      "Agora eu tenho 2 hobbies.\n",
      "Olá me chamo Felicity e tenho 30. Atualmente sou Engenheira de Dados no Itaú na squad DPD. Gosto muito de hobbies como Correr, Ler e Viajar nas horas vagas.\n"
     ]
    }
   ],
   "source": [
    "# Escreva seu código aqui:\n",
    "hobbies.pop() # Remove o primeiro hobby da lista\n",
    "hobbies.remove('Ler')\n",
    "\n",
    "print(f'Agora eu tenho {len(hobbies)} hobbies.') # Imprime a quantidade de hobbies após a remoção\n",
    "\n",
    "hobbies.insert(0, 'Abençoado') # Insere um novo hobby na primeira posição da lista\n",
    "\n",
    "print(f'Agora eu tenho {len(hobbies)} hobbies.') # Imprime a quantidade de hobbies após a adição\n",
    "\n",
    "hobbies = ['Correr', 'Ler', 'Viajar', 'Treinar']\n",
    "\n",
    "print(f'Olá me chamo {lista[0]} e tenho {lista[1]}. Atualmente sou {lista[2]} no Itaú na squad {lista[3]}. Gosto muito de hobbies como {lista[4]}, {lista[5]} e {lista[6]} nas horas vagas.')"
   ]
  },
  {
   "cell_type": "markdown",
   "id": "76560005",
   "metadata": {},
   "source": [
    "#### <font color=\"orange\">&#9997; Exercício 3</font>"
   ]
  },
  {
   "cell_type": "markdown",
   "id": "9fbe0758",
   "metadata": {},
   "source": [
    "Temos a lista:\n",
    "['Tecnologia','Finanças', 'Pessoas', 'Tecnologia', 'Marketing', 'Pessoas']\n",
    "\n",
    "Porém, como podemos ver, existem itens repetidos. De que forma podemos imprimir essa lista retirando esses valores duplicados?"
   ]
  },
  {
   "cell_type": "code",
   "execution_count": 6,
   "id": "fe0fb0d8",
   "metadata": {},
   "outputs": [
    {
     "name": "stdout",
     "output_type": "stream",
     "text": [
      "Lista original: ['Tecnologia', 'Finanças', 'Pessoas', 'Marketing']\n"
     ]
    }
   ],
   "source": [
    "# Escreva seu código aqui:\n",
    "lista = ['Tecnologia', 'Finanças', 'Pessoas', 'Tecnologia', 'Marketing', 'Pessoas']\n",
    "\n",
    "lista_unica = set(lista) # Converte a lista em um conjunto para remover duplicatas\n",
    "\n",
    "lista_unica = list(lista_unica) # Converte de volta para lista\n",
    "\n",
    "print(f'Lista original: {lista_unica}') # Imprime a lista modificada"
   ]
  },
  {
   "cell_type": "markdown",
   "id": "93aa5534",
   "metadata": {},
   "source": [
    "#### <font color=\"orange\">&#9997; Exercício 4</font>"
   ]
  },
  {
   "cell_type": "markdown",
   "id": "059427df",
   "metadata": {},
   "source": [
    "Agora crie uma tupla com as informações de uma lista de compras:\n",
    "('Café','Arroz','Feijão','Óleo de soja','Café','Sal','Açúcar','Molho de tomate','Macarrão','Milho','Farinha de trigo','Farinha de mandioca','Café','Leite','Manteiga','Chá','Carnes','Café','Peixes','Ovos')\n",
    "\n",
    "Responda na sequência:\n",
    "1. Quantas vezes o item ‘Café’ aparece nessa tupla?\n",
    "2. Qual o index do item \"Manteiga\"?"
   ]
  },
  {
   "cell_type": "code",
   "execution_count": null,
   "id": "2971c13b",
   "metadata": {},
   "outputs": [],
   "source": []
  }
 ],
 "metadata": {
  "kernelspec": {
   "display_name": "Python 3",
   "language": "python",
   "name": "python3"
  },
  "language_info": {
   "codemirror_mode": {
    "name": "ipython",
    "version": 3
   },
   "file_extension": ".py",
   "mimetype": "text/x-python",
   "name": "python",
   "nbconvert_exporter": "python",
   "pygments_lexer": "ipython3",
   "version": "3.12.1"
  }
 },
 "nbformat": 4,
 "nbformat_minor": 5
}
