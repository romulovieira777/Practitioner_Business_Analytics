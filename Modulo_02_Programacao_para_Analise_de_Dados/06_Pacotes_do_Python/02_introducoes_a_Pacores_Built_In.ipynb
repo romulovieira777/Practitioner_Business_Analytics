{
 "cells": [
  {
   "cell_type": "markdown",
   "id": "69567234",
   "metadata": {},
   "source": [
    "<p align=\"center\">\n",
    "    Hub D&A - Imersão em Python\n",
    "</p>"
   ]
  },
  {
   "cell_type": "markdown",
   "id": "89ec9a53",
   "metadata": {},
   "source": [
    "<p style=\"color:blue; font-size:22px;\"><b>Tabela de conteúdos</b></p>\n",
    "\n",
    "- [Funções Built-in](#Funções-Built-in)\n",
    "- [Pacotes Built-in](#Pacotes-Built-in)\n",
    "- [Pacote Datetime](#Pacote-Datetime)\n",
    "- [Pacote Terceiros](#Pacote-Terceiros)"
   ]
  },
  {
   "cell_type": "markdown",
   "id": "d48b22ac",
   "metadata": {},
   "source": [
    "**Versão Python**"
   ]
  },
  {
   "cell_type": "code",
   "execution_count": 1,
   "id": "b48d1881",
   "metadata": {},
   "outputs": [
    {
     "name": "stdout",
     "output_type": "stream",
     "text": [
      "Versão da Linguagemn Python Usada Neste Jupyter Notebook: 3.12.1\n"
     ]
    }
   ],
   "source": [
    "# Versão da Linguagem Python\n",
    "from platform import python_version\n",
    "print(f\"Versão da Linguagemn Python Usada Neste Jupyter Notebook: {python_version()}\")"
   ]
  },
  {
   "cell_type": "markdown",
   "id": "a51ff02d",
   "metadata": {},
   "source": [
    "## Funções Built-in\n",
    "\n",
    "São **funções que estão disponíveis diretamente no interpretador Python,** porém **requerem importação de módulos adicionais.** Como aquelas que já vimos."
   ]
  },
  {
   "cell_type": "markdown",
   "id": "d7140236",
   "metadata": {},
   "source": [
    "## Pacotes Built-in\n",
    "\n",
    "São **funções que estão disponíveis diretamente no interpretador Python,** porém **requerem importação de módulos adicionais.** Como aquelas que já viemos usando."
   ]
  },
  {
   "cell_type": "code",
   "execution_count": 2,
   "id": "2997069e",
   "metadata": {},
   "outputs": [
    {
     "name": "stdout",
     "output_type": "stream",
     "text": [
      "Data e Hora Atual: 2025-08-05 10:22:45.410682\n"
     ]
    }
   ],
   "source": [
    "# Importando Pacotes Built-in\n",
    "import datetime\n",
    "\n",
    "# Exemplo da função datetime\n",
    "now = datetime.datetime.now()\n",
    "print(\"Data e Hora Atual:\", now)"
   ]
  },
  {
   "cell_type": "code",
   "execution_count": 3,
   "id": "4e198ade",
   "metadata": {},
   "outputs": [
    {
     "name": "stdout",
     "output_type": "stream",
     "text": [
      "Contagem de Itens: Counter({'apple': 3, 'banana': 2, 'orange': 1})\n"
     ]
    }
   ],
   "source": [
    "from collections import Counter\n",
    "\n",
    "# Exemplo collections.Counter\n",
    "items = ['apple', 'banana', 'apple', 'orange', 'banana', 'apple']\n",
    "item_count = Counter(items)\n",
    "print(\"Contagem de Itens:\", item_count)"
   ]
  },
  {
   "cell_type": "code",
   "execution_count": 4,
   "id": "3adcb0fa",
   "metadata": {},
   "outputs": [
    {
     "name": "stdout",
     "output_type": "stream",
     "text": [
      "Número Aleatório entre 1 e 100: 22\n"
     ]
    }
   ],
   "source": [
    "import random\n",
    "\n",
    "# Exemplo random\n",
    "random_number = random.randint(1, 100)\n",
    "print(\"Número Aleatório entre 1 e 100:\", random_number)"
   ]
  },
  {
   "cell_type": "code",
   "execution_count": 5,
   "id": "e961ec22",
   "metadata": {},
   "outputs": [
    {
     "name": "stdout",
     "output_type": "stream",
     "text": [
      "Versão do Python: 3.12.1 (tags/v3.12.1:2305ca5, Dec  7 2023, 22:03:25) [MSC v.1937 64 bit (AMD64)]\n"
     ]
    }
   ],
   "source": [
    "import sys\n",
    "\n",
    "# Exemplo sys\n",
    "print(\"Versão do Python:\", sys.version)"
   ]
  },
  {
   "cell_type": "code",
   "execution_count": null,
   "id": "c29f53f4",
   "metadata": {},
   "outputs": [],
   "source": [
    "import os\n",
    "\n",
    "# Exemplo os\n",
    "current_directory = os.getcwd()\n",
    "print(\"Diretório Atual:\", current_directory)"
   ]
  },
  {
   "cell_type": "code",
   "execution_count": 7,
   "id": "d2df9384",
   "metadata": {},
   "outputs": [
    {
     "name": "stdout",
     "output_type": "stream",
     "text": [
      "O cosseno de pi é: -1.0\n"
     ]
    }
   ],
   "source": [
    "import math\n",
    "\n",
    "# Exemplo math\n",
    "print(\"O cosseno de pi é:\", math.cos(math.pi))"
   ]
  },
  {
   "cell_type": "code",
   "execution_count": 8,
   "id": "816a3b05",
   "metadata": {},
   "outputs": [
    {
     "name": "stdout",
     "output_type": "stream",
     "text": [
      "Lido do StringIO: some initial text data\n"
     ]
    }
   ],
   "source": [
    "import io\n",
    "\n",
    "# Exemplo io\n",
    "with io.StringIO(\"some initial text data\") as f:\n",
    "    print(\"Lido do StringIO:\", f.read())"
   ]
  },
  {
   "cell_type": "code",
   "execution_count": 9,
   "id": "6295b72e",
   "metadata": {},
   "outputs": [
    {
     "name": "stdout",
     "output_type": "stream",
     "text": [
      "Dados Serializados: b'\\x80\\x04\\x95F\\x00\\x00\\x00\\x00\\x00\\x00\\x00}\\x94\\x8c\\x01a\\x94]\\x94(K\\x01G@\\x00\\x00\\x00\\x00\\x00\\x00\\x00K\\x03\\x8c\\x08builtins\\x94\\x8c\\x07complex\\x94\\x93\\x94G@\\x10\\x00\\x00\\x00\\x00\\x00\\x00G@\\x18\\x00\\x00\\x00\\x00\\x00\\x00\\x86\\x94R\\x94es.'\n"
     ]
    }
   ],
   "source": [
    "import pickle\n",
    "\n",
    "# Exemplo pickle\n",
    "data = {'a': [1, 2.0, 3, 4+6j]}\n",
    "data_serialized = pickle.dumps(data)\n",
    "print(\"Dados Serializados:\", data_serialized)"
   ]
  },
  {
   "cell_type": "code",
   "execution_count": 10,
   "id": "8de2333d",
   "metadata": {},
   "outputs": [],
   "source": [
    "import csv\n",
    "\n",
    "# Exemplo csv\n",
    "with open('example.csv', mode='w', newline='') as file:\n",
    "    writer = csv.writer(file)\n",
    "    writer.writerow(['Spam', 'Lovely Spam', 'Wonderful Spam'])\n",
    "    writer.writerow(['Alice', 30, 'New York'])\n",
    "    writer.writerow(['Bob', 25, 'Los Angeles'])"
   ]
  },
  {
   "cell_type": "code",
   "execution_count": 11,
   "id": "0110fef9",
   "metadata": {},
   "outputs": [
    {
     "name": "stdout",
     "output_type": "stream",
     "text": [
      "Punctuation: !\"#$%&'()*+,-./:;<=>?@[\\]^_`{|}~\n"
     ]
    }
   ],
   "source": [
    "import string\n",
    "\n",
    "# Exemplo string\n",
    "print(\"Punctuation:\", string.punctuation)"
   ]
  },
  {
   "cell_type": "code",
   "execution_count": 13,
   "id": "53e3de5a",
   "metadata": {},
   "outputs": [
    {
     "name": "stdout",
     "output_type": "stream",
     "text": [
      "Matched name: {'first_name': 'John', 'last_name': 'Doe'}\n"
     ]
    }
   ],
   "source": [
    "import re\n",
    "\n",
    "# Exemplo re\n",
    "matched = re.match(r\"(?P<first_name>\\w+) (?P<last_name>\\w+)\", \"John Doe\")\n",
    "print(\"Matched name:\", matched.groupdict())"
   ]
  },
  {
   "cell_type": "code",
   "execution_count": 14,
   "id": "e8a00d60",
   "metadata": {},
   "outputs": [
    {
     "name": "stdout",
     "output_type": "stream",
     "text": [
      "Thread 1: iniciada\n"
     ]
    }
   ],
   "source": [
    "import threading\n",
    "\n",
    "# Exemplo threading\n",
    "def thread_function(name):\n",
    "    print(f\"Thread {name}: iniciada\")\n",
    "\n",
    "thread = threading.Thread(target=thread_function, args=(1,))\n",
    "thread.start()\n",
    "thread.join()"
   ]
  },
  {
   "cell_type": "code",
   "execution_count": 15,
   "id": "bc01af6c",
   "metadata": {},
   "outputs": [],
   "source": [
    "import multiprocessing\n",
    "\n",
    "# Exemplo multiprocessing\n",
    "def process_function(name):\n",
    "    print(f\"Process {name}: iniciada\")\n",
    "\n",
    "process = multiprocessing.Process(target=process_function, args=(1,))\n",
    "process.start()\n",
    "process.join()"
   ]
  },
  {
   "cell_type": "code",
   "execution_count": null,
   "id": "4d1e38db",
   "metadata": {},
   "outputs": [],
   "source": [
    "import subprocess\n",
    "\n",
    "# Exemplo subprocess\n",
    "proc = subprocess.run(['echo', 'Hello from subprocess'], capture_output=True, text=True)\n",
    "print(\"Subprocess output:\", proc.stdout)"
   ]
  },
  {
   "cell_type": "code",
   "execution_count": 17,
   "id": "2fb1a498",
   "metadata": {},
   "outputs": [],
   "source": [
    "import sqlite3\n",
    "\n",
    "# Exemplo sqlite3\n",
    "conn = sqlite3.connect(':memory:')\n",
    "cursor = conn.cursor()\n",
    "cursor.execute('CREATE TABLE example (id INTEGER PRIMARY KEY, name TEXT)')\n",
    "conn.commit()\n",
    "conn.close()"
   ]
  },
  {
   "cell_type": "code",
   "execution_count": 18,
   "id": "cbeafb55",
   "metadata": {},
   "outputs": [
    {
     "name": "stdout",
     "output_type": "stream",
     "text": [
      "Valor armazenado em shelve: value\n"
     ]
    }
   ],
   "source": [
    "import shelve\n",
    "\n",
    "# Exemplo shelve\n",
    "with shelve.open('myshelf.db') as db:\n",
    "    db['key'] = 'value'\n",
    "    print(\"Valor armazenado em shelve:\", db['key'])"
   ]
  },
  {
   "cell_type": "code",
   "execution_count": 19,
   "id": "50a6fb29",
   "metadata": {},
   "outputs": [
    {
     "name": "stdout",
     "output_type": "stream",
     "text": [
      "JSON String: {\"name\": \"John\", \"age\": 30}\n"
     ]
    }
   ],
   "source": [
    "import json\n",
    "\n",
    "# Exemplo json\n",
    "json_string = json.dumps({'name': 'John', 'age': 30})\n",
    "print(\"JSON String:\", json_string)"
   ]
  },
  {
   "cell_type": "code",
   "execution_count": 20,
   "id": "586d4cf8",
   "metadata": {},
   "outputs": [
    {
     "name": "stdout",
     "output_type": "stream",
     "text": [
      "Start tag: html\n",
      "Start tag: head\n",
      "Start tag: title\n"
     ]
    }
   ],
   "source": [
    "import html.parser\n",
    "\n",
    "# Exemplo html.parser\n",
    "class MyHTMLParser(html.parser.HTMLParser):\n",
    "    def handle_starttag(self, tag, attrs):\n",
    "        print(\"Start tag:\", tag)\n",
    "\n",
    "\n",
    "parser = MyHTMLParser()\n",
    "parser.feed('<html><head><title>Test</title></head>')"
   ]
  },
  {
   "cell_type": "code",
   "execution_count": 21,
   "id": "0dfdaff8",
   "metadata": {},
   "outputs": [
    {
     "name": "stdout",
     "output_type": "stream",
     "text": [
      "SHA-256 Hash: a591a6d40bf420404a011733cfb7b190d62c65bf0bcda32b57b277d9ad9f146e\n"
     ]
    }
   ],
   "source": [
    "import hashlib\n",
    "\n",
    "# Exemplo hashlib\n",
    "hash_object = hashlib.sha256(b'Hello World')\n",
    "hex_dig = hash_object.hexdigest()\n",
    "print(\"SHA-256 Hash:\", hex_dig)"
   ]
  },
  {
   "cell_type": "code",
   "execution_count": 22,
   "id": "fbaf1b58",
   "metadata": {},
   "outputs": [
    {
     "name": "stdout",
     "output_type": "stream",
     "text": [
      "HMAC Digest: ebb8d2ee5dcad6e9d6fc0b606811f9f03036bdd419a364d1a1ce1afa1bea61fd\n"
     ]
    }
   ],
   "source": [
    "import hmac\n",
    "\n",
    "# Exemplo hmac\n",
    "digest_maker = hmac.new(b'secret_key', b'message', hashlib.sha256)\n",
    "print(\"HMAC Digest:\", digest_maker.hexdigest())"
   ]
  }
 ],
 "metadata": {
  "kernelspec": {
   "display_name": "Python 3",
   "language": "python",
   "name": "python3"
  },
  "language_info": {
   "codemirror_mode": {
    "name": "ipython",
    "version": 3
   },
   "file_extension": ".py",
   "mimetype": "text/x-python",
   "name": "python",
   "nbconvert_exporter": "python",
   "pygments_lexer": "ipython3",
   "version": "3.12.1"
  }
 },
 "nbformat": 4,
 "nbformat_minor": 5
}
